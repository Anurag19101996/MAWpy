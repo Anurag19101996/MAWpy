{
 "cells": [
  {
   "cell_type": "code",
   "execution_count": 1,
   "id": "830354a5-4085-4fcf-bc9d-64a72d38bf31",
   "metadata": {
    "scrolled": true
   },
   "outputs": [],
   "source": [
    "import pandas as pd\n",
    "#import os, re\n",
    "#import glob\n",
    "\n",
    "import skmob\n",
    "from skmob.measures.individual import jump_lengths\n",
    "from skmob.measures.individual import radius_of_gyration\n",
    "from tqdm.notebook import tqdm\n",
    "import numpy as np\n",
    "#import warnings\n",
    "#warnings.filterwarnings('ignore')"
   ]
  },
  {
   "cell_type": "code",
   "execution_count": 4,
   "id": "74676080-89df-4f7d-8e1a-fa323f02c771",
   "metadata": {},
   "outputs": [
    {
     "name": "stdout",
     "output_type": "stream",
     "text": [
      "   unix_start_t                                            user_ID   orig_lat  \\\n",
      "0    1552522827  f98247efb013243c91c247aa6c6e119e71404a698005d1...  47.651589   \n",
      "1    1552850582  f98247efb013243c91c247aa6c6e119e71404a698005d1...  47.999315   \n",
      "2    1552851399  f98247efb013243c91c247aa6c6e119e71404a698005d1...  47.999042   \n",
      "3    1553827223  f98247efb013243c91c247aa6c6e119e71404a698005d1...  47.590755   \n",
      "4    1553840035  f98247efb013243c91c247aa6c6e119e71404a698005d1...  47.998033   \n",
      "\n",
      "    orig_long  orig_unc  \n",
      "0 -122.327397       900  \n",
      "1 -122.221824       122  \n",
      "2 -122.221574       104  \n",
      "3 -122.330222       103  \n",
      "4 -122.221373       128  \n"
     ]
    }
   ],
   "source": [
    "print(pd.read_csv(\"input_file_new_columns.csv\", nrows = 5))"
   ]
  },
  {
   "cell_type": "code",
   "execution_count": 4,
   "id": "b147f028-d318-4bd4-a6ee-a57b8b3b37e6",
   "metadata": {},
   "outputs": [],
   "source": [
    "def get_daily_metrics(df):\n",
    "    df['date'] = df['time'].dt.date\n",
    "    # number of records each day each user\n",
    "    num_of_records_df = df.groupby(['user_id','date']).size().reset_index()\n",
    "    num_of_records_df.columns = ['user_id','date','num_of_records']\n",
    "    # temporal occupancy each day each user\n",
    "    df['half_hour_index'] = df['time'].dt.hour * 2 + df['time'].dt.minute // 30\n",
    "    df = df.drop_duplicates(['user_id','date','half_hour_index'])\n",
    "    temporal_occupancy_df = df.groupby(['user_id','date']).size().reset_index()\n",
    "    temporal_occupancy_df.columns = ['user_id','date','intra_day_temporal_occupancy']\n",
    "    # merge\n",
    "    merge_df = num_of_records_df.merge(temporal_occupancy_df,how='left',on=['user_id','date'])\n",
    "    return merge_df"
   ]
  },
  {
   "cell_type": "code",
   "execution_count": 5,
   "id": "2c1a79ff-70ba-437a-a156-0530f4fe10ab",
   "metadata": {},
   "outputs": [],
   "source": [
    "def get_acc(df):\n",
    "    return df[['acc']]"
   ]
  },
  {
   "cell_type": "code",
   "execution_count": 6,
   "id": "1fb3b10d-a9d4-4832-9448-5667ca84a1fe",
   "metadata": {},
   "outputs": [],
   "source": [
    "def get_jump_length(df):\n",
    "    tdf = skmob.TrajDataFrame(df, latitude='lat', longitude='lon', datetime='time', user_id='user_id')\n",
    "    # Euclidean distance\n",
    "    distance_mean_df = jump_lengths(tdf,False)\n",
    "    distance_mean_df['jump_lengths'] = distance_mean_df.jump_lengths\n",
    "    distance_mean_df.columns = ['user_id','jump_length']\n",
    "    return distance_mean_df[['jump_length']]"
   ]
  },
  {
   "cell_type": "code",
   "execution_count": 7,
   "id": "0fbecc69-d9cf-41d5-8ad9-44afe78fe86e",
   "metadata": {},
   "outputs": [],
   "source": [
    "def get_longterm_metrics(df):\n",
    "    # high acc rate\n",
    "    high_acc_df = df.groupby('user_id')['acc'].apply(lambda x: (x < 100).mean()).reset_index()\n",
    "    high_acc_df.columns = ['user_id','acc_rate']\n",
    "    # radius of gyration\n",
    "    tdf = skmob.TrajDataFrame(df, latitude='lat', longitude='lon', datetime='time', user_id='user_id')\n",
    "    radius_of_gyration_df = radius_of_gyration(tdf,False)\n",
    "    radius_of_gyration_df.columns = ['user_id','radius_of_gyration']\n",
    "    # Euclidean distance mean\n",
    "    distance_mean_df = jump_lengths(tdf,False)\n",
    "    distance_mean_df['jump_lengths'] = distance_mean_df.jump_lengths.apply(lambda x: np.mean(x) if len(x) > 0 else np.nan)\n",
    "    distance_mean_df.columns = ['user_id','euclidean_distance_mean']\n",
    "    # merge\n",
    "    merge_df = pd.merge(pd.merge(high_acc_df, radius_of_gyration_df, on='user_id'), distance_mean_df, on='user_id')\n",
    "    return merge_df"
   ]
  },
  {
   "cell_type": "code",
   "execution_count": 8,
   "id": "0ba25aa7-ac8f-4cf8-b725-d6977c7f17d6",
   "metadata": {},
   "outputs": [],
   "source": [
    "def write_to_csv(dataframe, output_path, mode='a', header=False):\n",
    "    if not os.path.exists(output_path) or mode == 'w':\n",
    "        header = True\n",
    "    dataframe.to_csv(output_path, mode=mode, header=header, index=False)"
   ]
  },
  {
   "cell_type": "code",
   "execution_count": 9,
   "id": "d3819b44-ec20-43a4-8a0c-3bc4a0d25605",
   "metadata": {},
   "outputs": [
    {
     "data": {
      "application/vnd.jupyter.widget-view+json": {
       "model_id": "9ae47e3e29424b5c90c1f981cdd7d407",
       "version_major": 2,
       "version_minor": 0
      },
      "text/plain": [
       "  0%|          | 0/12 [00:00<?, ?it/s]"
      ]
     },
     "metadata": {},
     "output_type": "display_data"
    }
   ],
   "source": [
    "# os.remove('Metrics/daily_metrics.csv')\n",
    "# os.remove('Metrics/longterm_metrics.csv')\n",
    "# os.remove('Metrics/acc.csv')\n",
    "\n",
    "for zip_file in tqdm(zip_files):\n",
    "    if 'Sample_MSAs_Ind' in zip_file:\n",
    "        continue\n",
    "    match = re.search(r'/([^/]+)\\.zip$', zip_file)\n",
    "    MSA = match.group(1)\n",
    "    \n",
    "    df = read_concat_csv_from_zip(zip_file,100)\n",
    "    # daily_metrics_df = get_daily_metrics(df)\n",
    "    # daily_metrics_df['MSA'] = MSA\n",
    "    # write_to_csv(daily_metrics_df,'Metrics/daily_metrics.csv')\n",
    "    # longterm_metrics_df = get_longterm_metrics(df)\n",
    "    # longterm_metrics_df['MSA'] = MSA\n",
    "    # write_to_csv(longterm_metrics_df,'Metrics/longterm_metrics.csv')\n",
    "    acc_df = get_acc(df)\n",
    "    acc_df['MSA'] = MSA\n",
    "    write_to_csv(acc_df,'Metrics/acc.csv')\n",
    "    jump_length_df = get_jump_length(df)\n",
    "    jump_length_df['MSA'] = MSA\n",
    "    write_to_csv(jump_length_df,'Metrics/jump_length.csv')"
   ]
  },
  {
   "cell_type": "code",
   "execution_count": null,
   "id": "a13034e8-8434-4c3e-8a0c-64baa03dd772",
   "metadata": {},
   "outputs": [],
   "source": []
  }
 ],
 "metadata": {
  "kernelspec": {
   "display_name": "Python 3",
   "language": "python",
   "name": "python3"
  },
  "language_info": {
   "codemirror_mode": {
    "name": "ipython",
    "version": 3
   },
   "file_extension": ".py",
   "mimetype": "text/x-python",
   "name": "python",
   "nbconvert_exporter": "python",
   "pygments_lexer": "ipython3",
   "version": "3.8.8"
  }
 },
 "nbformat": 4,
 "nbformat_minor": 5
}
